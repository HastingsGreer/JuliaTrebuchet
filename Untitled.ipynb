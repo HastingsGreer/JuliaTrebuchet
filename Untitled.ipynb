{
 "cells": [
  {
   "cell_type": "code",
   "execution_count": 1,
   "metadata": {},
   "outputs": [
    {
     "data": {
      "text/html": [
       "    <script class='js-collapse-script'>\n",
       "        var curMatch =\n",
       "            window.location.href\n",
       "            .match(/(.*?)\\/notebooks\\/.*\\.ipynb/);\n",
       "\n",
       "        curMatch = curMatch ||\n",
       "            window.location.href\n",
       "            .match(/(.*?)\\/apps\\/.*\\.ipynb/);\n",
       "\n",
       "        if ( curMatch ) {\n",
       "            $('head').append('<base href=\"' + curMatch[1] + '/\">');\n",
       "        }\n",
       "    </script>\n"
      ],
      "text/plain": [
       "HTML{String}(\"    <script class='js-collapse-script'>\\n        var curMatch =\\n            window.location.href\\n            .match(/(.*?)\\\\/notebooks\\\\/.*\\\\.ipynb/);\\n\\n        curMatch = curMatch ||\\n            window.location.href\\n            .match(/(.*?)\\\\/apps\\\\/.*\\\\.ipynb/);\\n\\n        if ( curMatch ) {\\n            \\$('head').append('<base href=\\\"' + curMatch[1] + '/\\\">');\\n        }\\n    </script>\\n\")"
      ]
     },
     "metadata": {},
     "output_type": "display_data"
    },
    {
     "data": {
      "text/html": [
       "<script class='js-collapse-script' src='/assetserver/10a8d4e4b81be99363b61fa9e2f57a319e79f5df-assets/webio/dist/bundle.js'></script>"
      ],
      "text/plain": [
       "HTML{String}(\"<script class='js-collapse-script' src='/assetserver/10a8d4e4b81be99363b61fa9e2f57a319e79f5df-assets/webio/dist/bundle.js'></script>\")"
      ]
     },
     "metadata": {},
     "output_type": "display_data"
    },
    {
     "data": {
      "text/html": [
       "<script class='js-collapse-script' src='/assetserver/10a8d4e4b81be99363b61fa9e2f57a319e79f5df-assets/providers/ijulia_setup.js'></script>"
      ],
      "text/plain": [
       "HTML{String}(\"<script class='js-collapse-script' src='/assetserver/10a8d4e4b81be99363b61fa9e2f57a319e79f5df-assets/providers/ijulia_setup.js'></script>\")"
      ]
     },
     "metadata": {},
     "output_type": "display_data"
    },
    {
     "data": {
      "text/html": [
       "  <script class='js-collapse-script'>\n",
       "    $('.js-collapse-script').parent('.output_subarea').css('padding', '0');\n",
       "  </script>\n"
      ],
      "text/plain": [
       "HTML{String}(\"  <script class='js-collapse-script'>\\n    \\$('.js-collapse-script').parent('.output_subarea').css('padding', '0');\\n  </script>\\n\")"
      ]
     },
     "metadata": {},
     "output_type": "display_data"
    }
   ],
   "source": [
    "using RigidBodySim\n",
    "using RigidBodyDynamics"
   ]
  },
  {
   "cell_type": "code",
   "execution_count": 2,
   "metadata": {
    "collapsed": true
   },
   "outputs": [],
   "source": [
    "urdf = joinpath(dirname(pathof(RigidBodySim)), \"..\", \"test\", \"urdf\", \"Acrobot.urdf\")\n",
    "mechanism = parse_urdf(Float64, urdf)\n",
    "\n",
    "remove_fixed_tree_joints!(mechanism);"
   ]
  },
  {
   "cell_type": "code",
   "execution_count": 3,
   "metadata": {
    "collapsed": true
   },
   "outputs": [],
   "source": [
    "state = MechanismState(mechanism)\n",
    "shoulder, elbow = joints(mechanism)\n",
    "\n",
    "configuration(state, shoulder) .= 0.3\n",
    "configuration(state, elbow) .= 8\n",
    "velocity(state, shoulder) .= 1.\n",
    "velocity(state, elbow) .= 2.;"
   ]
  },
  {
   "cell_type": "code",
   "execution_count": 4,
   "metadata": {
    "collapsed": true
   },
   "outputs": [],
   "source": [
    "open_loop_dynamics = Dynamics(mechanism);"
   ]
  },
  {
   "cell_type": "code",
   "execution_count": null,
   "metadata": {
    "collapsed": true
   },
   "outputs": [],
   "source": []
  },
  {
   "cell_type": "code",
   "execution_count": 5,
   "metadata": {
    "collapsed": true
   },
   "outputs": [],
   "source": [
    "using MechanismGeometries\n",
    "visuals = URDFVisuals(urdf);"
   ]
  },
  {
   "cell_type": "code",
   "execution_count": 6,
   "metadata": {},
   "outputs": [
    {
     "data": {
      "text/plain": [
       "Blink.AtomShell.Window(1, Blink.AtomShell.Electron(Process(`\u001b[4m'C:\\Users\\hasti\\.julia\\packages\\Blink\\1QOOi\\deps\\atom\\electron.exe'\u001b[24m \u001b[4m'C:\\Users\\hasti\\.julia\\packages\\Blink\\1QOOi\\src\\AtomShell\\main.js'\u001b[24m \u001b[4mport\u001b[24m \u001b[4m4487\u001b[24m`, ProcessRunning), Sockets.TCPSocket(Base.Libc.WindowsRawSocket(0x00000000000004a8) active, 0 bytes waiting), Dict{String,Any}(\"callback\"=>##1#2())), Blink.Page(1, WebSocket(server, \u001b[32mCONNECTED\u001b[39m), Dict{String,Any}(\"webio\"=>##101#102{BlinkConnection}(BlinkConnection(Page(#= circular reference @-4 =#))),\"callback\"=>##1#2()), Distributed.Future(1, 1, 1, Some(true))))"
      ]
     },
     "execution_count": 6,
     "metadata": {},
     "output_type": "execute_result"
    }
   ],
   "source": [
    "gui = GUI(mechanism, Skeleton())\n",
    "if !haskey(ENV, \"CI\") # don't try to open a GUI on a headless CI build\n",
    "    open(gui)\n",
    "end"
   ]
  },
  {
   "cell_type": "code",
   "execution_count": 7,
   "metadata": {
    "collapsed": true
   },
   "outputs": [],
   "source": [
    "vis = gui.visualizer # a MeshCatMechanisms.MechanismVisualizer\n",
    "set_configuration!(vis, configuration(state));"
   ]
  },
  {
   "cell_type": "code",
   "execution_count": 8,
   "metadata": {
    "collapsed": true
   },
   "outputs": [],
   "source": [
    "gui_callback = CallbackSet(gui);"
   ]
  },
  {
   "cell_type": "code",
   "execution_count": null,
   "metadata": {
    "collapsed": true
   },
   "outputs": [],
   "source": []
  },
  {
   "cell_type": "code",
   "execution_count": 9,
   "metadata": {
    "collapsed": true
   },
   "outputs": [],
   "source": [
    "problem = ODEProblem(open_loop_dynamics, state, (0., 5.))\n",
    "rate_limiter = RealtimeRateLimiter(max_rate = 1.)\n",
    "callbacks = CallbackSet(gui_callback, rate_limiter) # this is how you combine callbacks\n",
    "solve(problem, Tsit5(), abs_tol = 1e-10, dt = 0.05, callback = callbacks);"
   ]
  },
  {
   "cell_type": "code",
   "execution_count": 243,
   "metadata": {
    "collapsed": true
   },
   "outputs": [],
   "source": [
    "problem = ODEProblem(open_loop_dynamics, state, (0., 500.))\n",
    "sol = solve(problem, Vern7(), abs_tol = 1e-10, dt = 0.05);\n",
    "setanimation!(vis, sol, realtime_rate=0.5);\n"
   ]
  },
  {
   "cell_type": "code",
   "execution_count": 10,
   "metadata": {},
   "outputs": [
    {
     "data": {
      "text/plain": [
       "\u001b[36mODEProblem\u001b[0m with uType \u001b[36mArray{Float64,1}\u001b[0m and tType \u001b[36mFloat64\u001b[0m. In-place: \u001b[36mtrue\u001b[0m\n",
       "timespan: (0.0, 5.0)\n",
       "u0: [0.3, 8.0, 0.0, 1.0, 2.0, 0.0]"
      ]
     },
     "execution_count": 10,
     "metadata": {},
     "output_type": "execute_result"
    }
   ],
   "source": [
    "problem"
   ]
  },
  {
   "cell_type": "code",
   "execution_count": 61,
   "metadata": {},
   "outputs": [
    {
     "data": {
      "text/plain": [
       "2-element Array{Joint{Float64,JT} where JT<:JointType{Float64},1}:\n",
       " Joint \"shoulder\": Revolute joint with axis [0.0, 1.0, 0.0]\n",
       " Joint \"elbow\": Revolute joint with axis [0.0, 1.0, 0.0]   "
      ]
     },
     "execution_count": 61,
     "metadata": {},
     "output_type": "execute_result"
    }
   ],
   "source": [
    "joints(mechanism)"
   ]
  },
  {
   "cell_type": "code",
   "execution_count": 92,
   "metadata": {},
   "outputs": [
    {
     "name": "stdout",
     "output_type": "stream",
     "text": [
      "search: \u001b[0m\u001b[1mp\u001b[22m\u001b[0m\u001b[1ma\u001b[22m\u001b[0m\u001b[1mr\u001b[22m\u001b[0m\u001b[1ms\u001b[22m\u001b[0m\u001b[1me\u001b[22m\u001b[0m\u001b[1m_\u001b[22m\u001b[0m\u001b[1mu\u001b[22m\u001b[0m\u001b[1mr\u001b[22m\u001b[0m\u001b[1md\u001b[22m\u001b[0m\u001b[1mf\u001b[22m\n",
      "\n"
     ]
    },
    {
     "data": {
      "text/latex": [
       "\\begin{verbatim}\n",
       "parse_urdf(filename; scalar_type, floating, joint_types, root_joint_type, remove_fixed_tree_joints, gravity, revolute_joint_type, floating_joint_type)\n",
       "\n",
       "\\end{verbatim}\n",
       "Create a \\texttt{Mechanism} by parsing a \\href{https://wiki.ros.org/urdf/XML/model}{URDF} file.\n",
       "\n",
       "Keyword arguments:\n",
       "\n",
       "\\begin{itemize}\n",
       "\\item \\texttt{scalar\\_type}: the scalar type used to store the \\texttt{Mechanism}'s kinematic and inertial  properties. Default: \\texttt{Float64}.\n",
       "\n",
       "\n",
       "\\item \\texttt{floating}: whether to use a floating joint as the root joint. Default: false.\n",
       "\n",
       "\n",
       "\\item \\texttt{joint\\_types}: dictionary mapping URDF joint type names to \\texttt{JointType} subtypes.  Default: \\href{@ref}{\\texttt{default\\_urdf\\_joint\\_types()}}.\n",
       "\n",
       "\n",
       "\\item \\texttt{root\\_joint\\_type}: the \\texttt{JointType} instance used to connect the parsed \\texttt{Mechanism} to the world.  Default: an instance of the the joint type corresponding to the \\texttt{floating} URDF joint type tag  if \\texttt{floating}, otherwise in an instance of the joint type for the \\texttt{fixed} URDF joint type tag.\n",
       "\n",
       "\n",
       "\\item \\texttt{remove\\_fixed\\_tree\\_joints}: whether to remove any fixed joints present in the kinematic tree  using \\href{@ref}{\\texttt{remove\\_fixed\\_tree\\_joints!}}. Default: \\texttt{true}.\n",
       "\n",
       "\n",
       "\\item \\texttt{gravity}: gravitational acceleration as a 3-vector expressed in the \\texttt{Mechanism}'s root frame  Default: \\texttt{[0.0, 0.0, -9.81]}.\n",
       "\n",
       "\\end{itemize}\n"
      ],
      "text/markdown": [
       "```julia\n",
       "parse_urdf(filename; scalar_type, floating, joint_types, root_joint_type, remove_fixed_tree_joints, gravity, revolute_joint_type, floating_joint_type)\n",
       "\n",
       "```\n",
       "\n",
       "Create a `Mechanism` by parsing a [URDF](https://wiki.ros.org/urdf/XML/model) file.\n",
       "\n",
       "Keyword arguments:\n",
       "\n",
       "  * `scalar_type`: the scalar type used to store the `Mechanism`'s kinematic and inertial  properties. Default: `Float64`.\n",
       "  * `floating`: whether to use a floating joint as the root joint. Default: false.\n",
       "  * `joint_types`: dictionary mapping URDF joint type names to `JointType` subtypes.  Default: [`default_urdf_joint_types()`](@ref).\n",
       "  * `root_joint_type`: the `JointType` instance used to connect the parsed `Mechanism` to the world.  Default: an instance of the the joint type corresponding to the `floating` URDF joint type tag  if `floating`, otherwise in an instance of the joint type for the `fixed` URDF joint type tag.\n",
       "  * `remove_fixed_tree_joints`: whether to remove any fixed joints present in the kinematic tree  using [`remove_fixed_tree_joints!`](@ref). Default: `true`.\n",
       "  * `gravity`: gravitational acceleration as a 3-vector expressed in the `Mechanism`'s root frame  Default: `[0.0, 0.0, -9.81]`.\n"
      ],
      "text/plain": [
       "\u001b[36m  parse_urdf(filename; scalar_type, floating, joint_types, root_joint_type, remove_fixed_tree_joints, gravity, revolute_joint_type, floating_joint_type)\u001b[39m\n",
       "\u001b[36m  \u001b[39m\n",
       "\n",
       "  Create a \u001b[36mMechanism\u001b[39m by parsing a URDF (https://wiki.ros.org/urdf/XML/model)\n",
       "  file.\n",
       "\n",
       "  Keyword arguments:\n",
       "\n",
       "    •    \u001b[36mscalar_type\u001b[39m: the scalar type used to store the \u001b[36mMechanism\u001b[39m's\n",
       "        kinematic and inertial properties. Default: \u001b[36mFloat64\u001b[39m.\n",
       "\n",
       "    •    \u001b[36mfloating\u001b[39m: whether to use a floating joint as the root joint.\n",
       "        Default: false.\n",
       "\n",
       "    •    \u001b[36mjoint_types\u001b[39m: dictionary mapping URDF joint type names to \u001b[36mJointType\u001b[39m\n",
       "        subtypes. Default: \u001b[36mdefault_urdf_joint_types()\u001b[39m.\n",
       "\n",
       "    •    \u001b[36mroot_joint_type\u001b[39m: the \u001b[36mJointType\u001b[39m instance used to connect the parsed\n",
       "        \u001b[36mMechanism\u001b[39m to the world. Default: an instance of the the joint type\n",
       "        corresponding to the \u001b[36mfloating\u001b[39m URDF joint type tag if \u001b[36mfloating\u001b[39m,\n",
       "        otherwise in an instance of the joint type for the \u001b[36mfixed\u001b[39m URDF\n",
       "        joint type tag.\n",
       "\n",
       "    •    \u001b[36mremove_fixed_tree_joints\u001b[39m: whether to remove any fixed joints\n",
       "        present in the kinematic tree using \u001b[36mremove_fixed_tree_joints!\u001b[39m.\n",
       "        Default: \u001b[36mtrue\u001b[39m.\n",
       "\n",
       "    •    \u001b[36mgravity\u001b[39m: gravitational acceleration as a 3-vector expressed in the\n",
       "        \u001b[36mMechanism\u001b[39m's root frame Default: \u001b[36m[0.0, 0.0, -9.81]\u001b[39m."
      ]
     },
     "execution_count": 92,
     "metadata": {},
     "output_type": "execute_result"
    }
   ],
   "source": [
    "?parse_urdf"
   ]
  },
  {
   "cell_type": "code",
   "execution_count": 93,
   "metadata": {},
   "outputs": [
    {
     "data": {
      "text/html": [
       "2 methods for generic function <b>parse_urdf</b>:<ul><li> parse_urdf(filename::<b>AbstractString</b>; <i>scalar_type, floating, joint_types, root_joint_type, remove_fixed_tree_joints, gravity, revolute_joint_type, floating_joint_type</i>) in RigidBodyDynamics.URDF at <a href=\"file://C:/Users/hasti/.julia/packages/RigidBodyDynamics/Oe3ru/src/urdf/parse.jl\" target=\"_blank\">C:\\Users\\hasti\\.julia\\packages\\RigidBodyDynamics\\Oe3ru\\src\\urdf\\parse.jl:172</a></li> <li> parse_urdf(scalar_type::<b>Type</b>, filename::<b>AbstractString</b>) in RigidBodyDynamics.URDF at <a href=\"file://C:/Users/hasti/.julia/packages/RigidBodyDynamics/Oe3ru/src/urdf/parse.jl\" target=\"_blank\">C:\\Users\\hasti\\.julia\\packages\\RigidBodyDynamics\\Oe3ru\\src\\urdf\\parse.jl:236</a></li> </ul>"
      ],
      "text/plain": [
       "# 2 methods for generic function \"parse_urdf\":\n",
       "[1] parse_urdf(filename::AbstractString; scalar_type, floating, joint_types, root_joint_type, remove_fixed_tree_joints, gravity, revolute_joint_type, floating_joint_type) in RigidBodyDynamics.URDF at C:\\Users\\hasti\\.julia\\packages\\RigidBodyDynamics\\Oe3ru\\src\\urdf\\parse.jl:172\n",
       "[2] parse_urdf(scalar_type::Type, filename::AbstractString) in RigidBodyDynamics.URDF at C:\\Users\\hasti\\.julia\\packages\\RigidBodyDynamics\\Oe3ru\\src\\urdf\\parse.jl:236"
      ]
     },
     "execution_count": 93,
     "metadata": {},
     "output_type": "execute_result"
    }
   ],
   "source": [
    "methods(parse_urdf)"
   ]
  },
  {
   "cell_type": "code",
   "execution_count": 138,
   "metadata": {},
   "outputs": [
    {
     "ename": "ErrorException",
     "evalue": "type Mechanism has no field joints",
     "output_type": "error",
     "traceback": [
      "type Mechanism has no field joints",
      "",
      "Stacktrace:",
      " [1] getproperty(::Any, ::Symbol) at .\\sysimg.jl:18",
      " [2] top-level scope at In[138]:1"
     ]
    }
   ],
   "source": [
    "mechanism.joints"
   ]
  },
  {
   "cell_type": "code",
   "execution_count": 150,
   "metadata": {},
   "outputs": [
    {
     "data": {
      "text/plain": [
       "retcode: Success\n",
       "Interpolation: specialized 7th order lazy interpolation\n",
       "t: 12043-element Array{Float64,1}:\n",
       "   0.0                \n",
       "   0.05               \n",
       "   0.11987192084451026\n",
       "   0.23251867384857536\n",
       "   0.35276813006263164\n",
       "   0.4940303639257526 \n",
       "   0.655080986236982  \n",
       "   0.8534380447020984 \n",
       "   1.013391943341263  \n",
       "   1.147934980339724  \n",
       "   1.2626899953016844 \n",
       "   1.3623481931574024 \n",
       "   1.486017900198124  \n",
       "   ⋮                  \n",
       " 499.6926314926067    \n",
       " 499.7231592775979    \n",
       " 499.7533120870222    \n",
       " 499.78140306336405   \n",
       " 499.8134431030695    \n",
       " 499.8429806064448    \n",
       " 499.87274826771835   \n",
       " 499.90413124505034   \n",
       " 499.93269368611305   \n",
       " 499.96086792191005   \n",
       " 499.98707402265705   \n",
       " 500.0                \n",
       "u: 12043-element Array{Array{Float64,1},1}:\n",
       " [0.3, 8.0, 0.0, 1.0, 2.0, 0.0]                                \n",
       " [0.361917, 8.08283, -0.0333042, 1.45191, 1.33726, -1.25683]   \n",
       " [0.478553, 8.15032, -0.161197, 1.84093, 0.636008, -2.25782]   \n",
       " [0.697486, 8.18044, -0.428708, 1.95353, -0.00824068, -2.18891]\n",
       " [0.914895, 8.1657, -0.611995, 1.60525, -0.158168, -0.718251]  \n",
       " [1.09445, 8.16024, -0.552186, 0.904901, 0.148228, 1.63108]    \n",
       " [1.16508, 8.23712, -0.0367038, -0.0459757, 0.845886, 4.90022] \n",
       " [1.02498, 8.5063, 1.37395, -1.43094, 1.8834, 8.96104]         \n",
       " [0.667171, 8.88116, 2.79529, -3.24325, 2.84108, 7.88691]      \n",
       " [0.0648195, 9.32865, 3.6978, -5.65417, 3.7567, 6.51721]       \n",
       " [-0.558102, 9.74753, 4.70613, -4.58806, 3.31075, 10.9104]     \n",
       " [-0.926022, 10.0387, 5.76952, -2.90381, 2.55187, 9.57231]     \n",
       " [-1.19744, 10.3031, 6.68731, -1.58668, 1.73556, 5.38135]      \n",
       " ⋮                                                             \n",
       " [-97.0671, 164.692, -27863.6, -3.05526, 4.79475, -150.771]    \n",
       " [-97.1553, 164.833, -27868.2, -2.85277, 4.59399, -151.127]    \n",
       " [-97.2376, 164.968, -27872.7, -2.58164, 4.35359, -151.574]    \n",
       " [-97.3099, 165.091, -27877.0, -2.46437, 4.28773, -151.429]    \n",
       " [-97.3855, 165.226, -27881.8, -2.32784, 4.22974, -151.577]    \n",
       " [-97.4487, 165.348, -27886.3, -2.04716, 4.06998, -152.026]    \n",
       " [-97.5065, 165.468, -27890.9, -1.71406, 3.90324, -152.373]    \n",
       " [-97.5579, 165.59, -27895.6, -1.45555, 3.82546, -152.361]     \n",
       " [-97.5928, 165.696, -27900.0, -1.12624, 3.70797, -152.97]     \n",
       " [-97.6151, 165.796, -27904.3, -0.451006, 3.38976, -153.796]   \n",
       " [-97.6229, 165.884, -27908.3, 0.056047, 3.18766, -153.745]    \n",
       " [-97.6189, 165.924, -27910.3, 0.512006, 2.96852, -154.802]    "
      ]
     },
     "execution_count": 150,
     "metadata": {},
     "output_type": "execute_result"
    }
   ],
   "source": [
    "sol"
   ]
  },
  {
   "cell_type": "code",
   "execution_count": 157,
   "metadata": {},
   "outputs": [
    {
     "name": "stderr",
     "output_type": "stream",
     "text": [
      "┌ Info: Recompiling stale cache file C:\\Users\\hasti\\.julia\\compiled\\v1.1\\PyPlot\\oatAj.ji for PyPlot [d330b81b-6aea-500a-939a-2ce795aea3ee]\n",
      "└ @ Base loading.jl:1184\n"
     ]
    }
   ],
   "source": [
    "using PyPlot"
   ]
  },
  {
   "cell_type": "code",
   "execution_count": 156,
   "metadata": {},
   "outputs": [
    {
     "name": "stdout",
     "output_type": "stream",
     "text": [
      "\u001b[32m\u001b[1m  Updating\u001b[22m\u001b[39m registry at `C:\\Users\\hasti\\.julia\\registries\\General`\n",
      "\u001b[32m\u001b[1m  Updating\u001b[22m\u001b[39m git-repo `https://github.com/JuliaRegistries/General.git`\n",
      "\u001b[2K\u001b[36m\u001b[1mFetching:\u001b[22m\u001b[39m [========================================>]  100.0 %.0 %1 %\u001b[?25h\u001b[32m\u001b[1m Resolving\u001b[22m\u001b[39m package versions...\n",
      "\u001b[32m\u001b[1m Installed\u001b[22m\u001b[39m ArrayInterface ── v1.2.1\n",
      "\u001b[32m\u001b[1m Installed\u001b[22m\u001b[39m DiffEqDiffTools ─ v1.1.0\n",
      "\u001b[32m\u001b[1m Installed\u001b[22m\u001b[39m NLSolversBase ─── v7.4.0\n",
      "\u001b[32m\u001b[1m Installed\u001b[22m\u001b[39m SparseDiffTools ─ v0.7.0\n",
      "\u001b[32m\u001b[1m Installed\u001b[22m\u001b[39m NLsolve ───────── v4.1.0\n",
      "\u001b[32m\u001b[1m Installed\u001b[22m\u001b[39m BandedMatrices ── v0.9.4\n",
      "\u001b[32m\u001b[1m  Updating\u001b[22m\u001b[39m `C:\\Users\\hasti\\.julia\\environments\\v1.1\\Project.toml`\n",
      " \u001b[90m [d330b81b]\u001b[39m\u001b[92m + PyPlot v2.8.1\u001b[39m\n",
      "\u001b[32m\u001b[1m  Updating\u001b[22m\u001b[39m `C:\\Users\\hasti\\.julia\\environments\\v1.1\\Manifest.toml`\n",
      " \u001b[90m [4fba245c]\u001b[39m\u001b[93m ↑ ArrayInterface v1.2.0 ⇒ v1.2.1\u001b[39m\n",
      " \u001b[90m [aae01518]\u001b[39m\u001b[93m ↑ BandedMatrices v0.9.3 ⇒ v0.9.4\u001b[39m\n",
      " \u001b[90m [01453d9d]\u001b[39m\u001b[93m ↑ DiffEqDiffTools v0.14.0 ⇒ v1.1.0\u001b[39m\n",
      " \u001b[90m [d41bc354]\u001b[39m\u001b[93m ↑ NLSolversBase v7.3.1 ⇒ v7.4.0\u001b[39m\n",
      " \u001b[90m [2774e3e8]\u001b[39m\u001b[93m ↑ NLsolve v4.0.0 ⇒ v4.1.0\u001b[39m\n",
      " \u001b[90m [47a9eef4]\u001b[39m\u001b[93m ↑ SparseDiffTools v0.6.0 ⇒ v0.7.0\u001b[39m\n"
     ]
    }
   ],
   "source": [
    "import Pkg\n",
    "Pkg.add(\"PyPlot\")"
   ]
  },
  {
   "cell_type": "code",
   "execution_count": 159,
   "metadata": {},
   "outputs": [
    {
     "ename": "BoundsError",
     "evalue": "BoundsError: attempt to access 12043-element Array{Array{Float64,1},1} at index [Base.Slice(Base.OneTo(12043)), 6]",
     "output_type": "error",
     "traceback": [
      "BoundsError: attempt to access 12043-element Array{Array{Float64,1},1} at index [Base.Slice(Base.OneTo(12043)), 6]",
      "",
      "Stacktrace:",
      " [1] throw_boundserror(::Array{Array{Float64,1},1}, ::Tuple{Base.Slice{Base.OneTo{Int64}},Int64}) at .\\abstractarray.jl:484",
      " [2] checkbounds at .\\abstractarray.jl:449 [inlined]",
      " [3] _getindex at .\\multidimensional.jl:641 [inlined]",
      " [4] getindex(::Array{Array{Float64,1},1}, ::Function, ::Int64) at .\\abstractarray.jl:927",
      " [5] top-level scope at In[159]:1"
     ]
    }
   ],
   "source": [
    "PyPlot.plot(sol.u[:, 6])"
   ]
  },
  {
   "cell_type": "code",
   "execution_count": 171,
   "metadata": {},
   "outputs": [
    {
     "data": {
      "image/png": "[encoded data removed]",
      "text/plain": [
       "Figure(PyObject <Figure size 640x480 with 1 Axes>)"
      ]
     },
     "metadata": {},
     "output_type": "display_data"
    },
    {
     "data": {
      "text/plain": [
       "1-element Array{PyCall.PyObject,1}:\n",
       " PyObject <matplotlib.lines.Line2D object at 0x0000000106660CC0>"
      ]
     },
     "execution_count": 171,
     "metadata": {},
     "output_type": "execute_result"
    }
   ],
   "source": [
    "PyPlot.plot(sol.t, hcat(sol.u...)[6, :])\n"
   ]
  },
  {
   "cell_type": "code",
   "execution_count": 174,
   "metadata": {},
   "outputs": [
    {
     "data": {
      "text/plain": [
       "Joint \"shoulder\": Revolute joint with axis [0.0, 1.0, 0.0]"
      ]
     },
     "execution_count": 174,
     "metadata": {},
     "output_type": "execute_result"
    }
   ],
   "source": [
    "joints(mechanism)[1]"
   ]
  },
  {
   "cell_type": "code",
   "execution_count": 177,
   "metadata": {},
   "outputs": [
    {
     "name": "stdout",
     "output_type": "stream",
     "text": [
      "search: \u001b[0m\u001b[1ms\u001b[22m\u001b[0m\u001b[1mh\u001b[22m\u001b[0m\u001b[1mo\u001b[22m\u001b[0m\u001b[1mu\u001b[22m\u001b[0m\u001b[1ml\u001b[22m\u001b[0m\u001b[1md\u001b[22m\u001b[0m\u001b[1me\u001b[22m\u001b[0m\u001b[1mr\u001b[22m \u001b[0m\u001b[1ms\u001b[22m\u001b[0m\u001b[1mh\u001b[22m\u001b[0m\u001b[1mo\u001b[22m\u001b[0m\u001b[1mu\u001b[22m\u001b[0m\u001b[1ml\u001b[22m\u001b[0m\u001b[1md\u001b[22m\u001b[0m\u001b[1me\u001b[22m\u001b[0m\u001b[1mr\u001b[22m2\n",
      "\n"
     ]
    },
    {
     "data": {
      "text/latex": [
       "No documentation found.\n",
       "\n",
       "\\texttt{shoulder} is of type \\texttt{Joint\\{Float64,Revolute\\{Float64\\}\\}}.\n",
       "\n",
       "\\section{Summary}\n",
       "\\begin{verbatim}\n",
       "struct Joint{Float64,Revolute{Float64}} <: Any\n",
       "\\end{verbatim}\n",
       "\\section{Fields}\n",
       "\\begin{verbatim}\n",
       "name                 :: String\n",
       "frame_before         :: CartesianFrame3D\n",
       "frame_after          :: CartesianFrame3D\n",
       "joint_type           :: Revolute{Float64}\n",
       "id                   :: Base.RefValue{JointID}\n",
       "joint_to_predecessor :: Base.RefValue{Transform3D{Float64}}\n",
       "joint_to_successor   :: Base.RefValue{Transform3D{Float64}}\n",
       "position_bounds      :: Array{RigidBodyDynamics.Bounds{Float64},1}\n",
       "velocity_bounds      :: Array{RigidBodyDynamics.Bounds{Float64},1}\n",
       "effort_bounds        :: Array{RigidBodyDynamics.Bounds{Float64},1}\n",
       "\\end{verbatim}\n"
      ],
      "text/markdown": [
       "No documentation found.\n",
       "\n",
       "`shoulder` is of type `Joint{Float64,Revolute{Float64}}`.\n",
       "\n",
       "# Summary\n",
       "\n",
       "```\n",
       "struct Joint{Float64,Revolute{Float64}} <: Any\n",
       "```\n",
       "\n",
       "# Fields\n",
       "\n",
       "```\n",
       "name                 :: String\n",
       "frame_before         :: CartesianFrame3D\n",
       "frame_after          :: CartesianFrame3D\n",
       "joint_type           :: Revolute{Float64}\n",
       "id                   :: Base.RefValue{JointID}\n",
       "joint_to_predecessor :: Base.RefValue{Transform3D{Float64}}\n",
       "joint_to_successor   :: Base.RefValue{Transform3D{Float64}}\n",
       "position_bounds      :: Array{RigidBodyDynamics.Bounds{Float64},1}\n",
       "velocity_bounds      :: Array{RigidBodyDynamics.Bounds{Float64},1}\n",
       "effort_bounds        :: Array{RigidBodyDynamics.Bounds{Float64},1}\n",
       "```\n"
      ],
      "text/plain": [
       "  No documentation found.\n",
       "\n",
       "  \u001b[36mshoulder\u001b[39m is of type \u001b[36mJoint{Float64,Revolute{Float64}}\u001b[39m.\n",
       "\n",
       "\u001b[1m  Summary\u001b[22m\n",
       "\u001b[1m  ≡≡≡≡≡≡≡≡≡\u001b[22m\n",
       "\n",
       "\u001b[36m  struct Joint{Float64,Revolute{Float64}} <: Any\u001b[39m\n",
       "\n",
       "\u001b[1m  Fields\u001b[22m\n",
       "\u001b[1m  ≡≡≡≡≡≡≡≡\u001b[22m\n",
       "\n",
       "\u001b[36m  name                 :: String\u001b[39m\n",
       "\u001b[36m  frame_before         :: CartesianFrame3D\u001b[39m\n",
       "\u001b[36m  frame_after          :: CartesianFrame3D\u001b[39m\n",
       "\u001b[36m  joint_type           :: Revolute{Float64}\u001b[39m\n",
       "\u001b[36m  id                   :: Base.RefValue{JointID}\u001b[39m\n",
       "\u001b[36m  joint_to_predecessor :: Base.RefValue{Transform3D{Float64}}\u001b[39m\n",
       "\u001b[36m  joint_to_successor   :: Base.RefValue{Transform3D{Float64}}\u001b[39m\n",
       "\u001b[36m  position_bounds      :: Array{RigidBodyDynamics.Bounds{Float64},1}\u001b[39m\n",
       "\u001b[36m  velocity_bounds      :: Array{RigidBodyDynamics.Bounds{Float64},1}\u001b[39m\n",
       "\u001b[36m  effort_bounds        :: Array{RigidBodyDynamics.Bounds{Float64},1}\u001b[39m"
      ]
     },
     "execution_count": 177,
     "metadata": {},
     "output_type": "execute_result"
    }
   ],
   "source": [
    "?shoulder"
   ]
  },
  {
   "cell_type": "code",
   "execution_count": 178,
   "metadata": {
    "collapsed": true
   },
   "outputs": [],
   "source": [
    "using MechanismGeometries"
   ]
  },
  {
   "cell_type": "code",
   "execution_count": 179,
   "metadata": {},
   "outputs": [
    {
     "data": {
      "text/plain": [
       "URDFVisuals(<?xml version=\"1.0\" encoding=\"utf-8\"?>\n",
       "<robot name=\"DoublePendulum\">\n",
       "  <link name=\"base_link\">\n",
       "    <visual>\n",
       "      <geometry>\n",
       "         <box size=\".2 .2 .2\"/>\n",
       "      </geometry>\n",
       "      <material name=\"green\">\n",
       "         <color rgba=\"0 1 0 1\"/>\n",
       "      </material>\n",
       "    </visual>\n",
       "  </link>\n",
       "\n",
       "  <link name=\"lower_arm\">\n",
       "    <inertial>\n",
       "      <origin xyz=\"0 0 -.5\" rpy=\"0 0 0\"/>\n",
       "      <mass value=\"1\"/>\n",
       "      <inertia ixx=\"1\" ixy=\"0\" ixz=\"0\" iyy=\"0.083\" iyz=\"0\" izz=\"1\"/>\n",
       "    </inertial>\n",
       "    <visual>\n",
       "      <origin xyz=\"0 0 -.5\" rpy=\"0 0 0\"/>\n",
       "      <geometry>\n",
       "         <cylinder length=\"1\" radius=\".05\"/>\n",
       "      </geometry>\n",
       "      <material name=\"red\">\n",
       "         <color rgba=\"1 0 0 1\"/>\n",
       "      </material>\n",
       "    </visual>\n",
       "  </link>\n",
       "\n",
       "  <link name=\"upper_arm\">\n",
       "    <inertial>\n",
       "      <origin xyz=\"0 0 2\" rpy=\"0 0 0\"/>\n",
       "      <mass value=\"1\"/>\n",
       "      <inertia ixx=\"1\" ixy=\"0\" ixz=\"0\" iyy=\"0.083\" iyz=\"0\" izz=\"1\"/>\n",
       "    </inertial>\n",
       "    <visual>\n",
       "      <origin xyz=\"0 0 2\" rpy=\"0 0 0\"/>\n",
       "      <geometry>\n",
       "         <cylinder length=\"4\" radius=\".05\"/>\n",
       "      </geometry>\n",
       "      <material name=\"yellow\">\n",
       "         <color rgba=\"1 1 0 1\"/>\n",
       "      </material>\n",
       "    </visual>\n",
       "  </link>\n",
       "\n",
       "  <link name=\"sling_heavy\">\n",
       "    <inertial>\n",
       "      <origin xyz=\"0 0 2\" rpy=\"0 0 0\"/>\n",
       "      <mass value=\".001\"/>\n",
       "      <inertia ixx=\".00001\" ixy=\"0\" ixz=\"0\" iyy=\"0.0001\" iyz=\"0\" izz=\".001\"/>\n",
       "    </inertial>\n",
       "    <visual>\n",
       "      <origin xyz=\"0 0 2\" rpy=\"0 0 0\"/>\n",
       "      <geometry>\n",
       "         <cylinder length=\"4\" radius=\".02\"/>\n",
       "      </geometry>\n",
       "      <material name=\"red\">\n",
       "         <color rgba=\"1 0 0 1\"/>\n",
       "      </material>\n",
       "    </visual>\n",
       "  </link>\n",
       "\n",
       "  <link name=\"counterweight\">\n",
       "    <inertial>\n",
       "      <origin xyz=\"0 0 0\" rpy=\"0 0 0\"/>\n",
       "      <mass value=\"15\"/>\n",
       "      <inertia ixx=\".00001\" ixy=\"0\" ixz=\"0\" iyy=\"0.0001\" iyz=\"0\" izz=\".001\"/>\n",
       "    </inertial>\n",
       "    <visual>\n",
       "      <origin xyz=\"0 0 0\" rpy=\"0 0 0\"/>\n",
       "      <geometry>\n",
       "         <cylinder length=\".3\" radius=\".15\"/>\n",
       "      </geometry>\n",
       "      <material name=\"red\">\n",
       "         <color rgba=\"1 0 0 1\"/>\n",
       "      </material>\n",
       "    </visual>\n",
       "  </link>\n",
       "     \n",
       "\n",
       "  <link name=\"lower_link\">\n",
       "    <inertial>\n",
       "      <origin xyz=\"0 0 -1\" rpy=\"0 0 0\"/>\n",
       "      <mass value=\"1\"/>\n",
       "      <inertia ixx=\"1\" ixy=\"0\" ixz=\"0\" iyy=\"0.33\" iyz=\"0\" izz=\"1\"/>\n",
       "    </inertial>\n",
       "    <visual>\n",
       "      <origin xyz=\"0 0 -1\" rpy=\"0 0 0\"/>\n",
       "      <geometry>\n",
       "         <cylinder length=\"2\" radius=\".05\"/>\n",
       "      </geometry>\n",
       "      <material name=\"blue\">\n",
       "         <color rgba=\"0 0 1 1\"/>\n",
       "      </material>\n",
       "    </visual>\n",
       "  </link>\n",
       "\n",
       "  <joint name=\"shoulder\" type=\"continuous\">\n",
       "    <parent link=\"base_link\"/>\n",
       "    <child link=\"lower_arm\"/>\n",
       "    <origin xyz=\"0 .15 0\"/>\n",
       "    <axis xyz=\"0 1 0\"/>\n",
       "    <dynamics damping=\"0.1\"/>\n",
       "  </joint>\n",
       "\n",
       "  <joint name=\"arm_mid\" type=\"fixed\">\n",
       "    <parent link=\"lower_arm\"/>\n",
       "    <child link=\"upper_arm\"/>\n",
       "    <origin xyz=\"0 .25 0\"/>\n",
       "    <axis xyz=\"0 1 0\"/>\n",
       "    <dynamics damping=\"0.1\"/>\n",
       "  </joint>\n",
       "\n",
       "  <joint name=\"elbow\" type=\"continuous\">\n",
       "    <parent link=\"lower_arm\"/>\n",
       "    <child link=\"lower_link\"/>\n",
       "    <origin xyz=\"0 .1 -1\"/>\n",
       "    <axis xyz=\"0 1 0\"/>\n",
       "    <dynamics damping=\"0.1\"/>\n",
       "  </joint>\n",
       "\n",
       "  <joint name=\"pin\" type=\"continuous\">\n",
       "    <parent link=\"upper_arm\"/>\n",
       "    <child link=\"sling_heavy\"/>\n",
       "    <origin xyz=\"0 .1 4\"/>\n",
       "    <axis xyz=\"0 1 0\"/>\n",
       "    <dynamics damping=\"0.1\"/>\n",
       "  </joint>\n",
       "\n",
       "  <joint name=\"cwthing\" type=\"fixed\">\n",
       "    <parent link=\"lower_link\"/>\n",
       "    <child link=\"counterweight\"/>\n",
       "    <origin xyz=\"0 0 -2\"/>\n",
       "    <axis xyz=\"0 1 0\"/>\n",
       "  </joint>\n",
       "    \n",
       "</robot>\n",
       ", [\"\"], \"\", \"visual\", Dict{String,RGBA{Float32}}())"
      ]
     },
     "execution_count": 179,
     "metadata": {},
     "output_type": "execute_result"
    }
   ],
   "source": []
  },
  {
   "cell_type": "code",
   "execution_count": null,
   "metadata": {
    "collapsed": true
   },
   "outputs": [],
   "source": []
  }
 ],
 "metadata": {
  "kernelspec": {
   "display_name": "Julia 1.1.1",
   "language": "julia",
   "name": "julia-1.1"
  },
  "language_info": {
   "file_extension": ".jl",
   "mimetype": "application/julia",
   "name": "julia",
   "version": "1.1.1"
  }
 },
 "nbformat": 4,
 "nbformat_minor": 2
}
