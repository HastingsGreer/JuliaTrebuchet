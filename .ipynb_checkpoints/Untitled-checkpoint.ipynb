{
 "cells": [
  {
   "cell_type": "code",
   "execution_count": 27,
   "metadata": {},
   "outputs": [],
   "source": [
    "using RigidBodySim\n",
    "using RigidBodyDynamics"
   ]
  },
  {
   "cell_type": "code",
   "execution_count": 80,
   "metadata": {
    "collapsed": true
   },
   "outputs": [],
   "source": [
    "urdf = joinpath(dirname(pathof(RigidBodySim)), \"..\", \"test\", \"urdf\", \"Acrobot.urdf\")\n",
    "mechanism = parse_urdf(Float64, urdf)\n",
    "remove_fixed_tree_joints!(mechanism);"
   ]
  },
  {
   "cell_type": "code",
   "execution_count": 81,
   "metadata": {},
   "outputs": [],
   "source": [
    "state = MechanismState(mechanism)\n",
    "shoulder, elbow = joints(mechanism)\n",
    "\n",
    "configuration(state, shoulder) .= 0.3\n",
    "configuration(state, elbow) .= 8\n",
    "velocity(state, shoulder) .= 1.\n",
    "velocity(state, elbow) .= 2.;"
   ]
  },
  {
   "cell_type": "code",
   "execution_count": 82,
   "metadata": {
    "collapsed": true
   },
   "outputs": [],
   "source": [
    "open_loop_dynamics = Dynamics(mechanism);"
   ]
  },
  {
   "cell_type": "code",
   "execution_count": 83,
   "metadata": {},
   "outputs": [
    {
     "data": {
      "text/plain": [
       "\u001b[36mODEProblem\u001b[0m with uType \u001b[36mArray{Float64,1}\u001b[0m and tType \u001b[36mFloat64\u001b[0m. In-place: \u001b[36mtrue\u001b[0m\n",
       "timespan: (0.0, 1000.0)\n",
       "u0: [0.3, 8.0, 1.0, 2.0]"
      ]
     },
     "execution_count": 83,
     "metadata": {},
     "output_type": "execute_result"
    }
   ],
   "source": [
    "final_time = 1000.\n",
    "problem = ODEProblem(open_loop_dynamics, state, (0., final_time))"
   ]
  },
  {
   "cell_type": "code",
   "execution_count": 84,
   "metadata": {
    "collapsed": true
   },
   "outputs": [],
   "source": [
    "using MechanismGeometries\n",
    "visuals = URDFVisuals(urdf);"
   ]
  },
  {
   "cell_type": "code",
   "execution_count": 85,
   "metadata": {},
   "outputs": [
    {
     "data": {
      "text/plain": [
       "Blink.AtomShell.Window(5, Blink.AtomShell.Electron(Process(`\u001b[4m'C:\\Users\\hasti\\.julia\\packages\\Blink\\1QOOi\\deps\\atom\\electron.exe'\u001b[24m \u001b[4m'C:\\Users\\hasti\\.julia\\packages\\Blink\\1QOOi\\src\\AtomShell\\main.js'\u001b[24m \u001b[4mport\u001b[24m \u001b[4m7302\u001b[24m`, ProcessRunning), Sockets.TCPSocket(Base.Libc.WindowsRawSocket(0x00000000000004c8) active, 0 bytes waiting), Dict{String,Any}(\"callback\"=>##1#2())), Blink.Page(5, WebSocket(server, \u001b[32mCONNECTED\u001b[39m), Dict{String,Any}(\"webio\"=>##101#102{BlinkConnection}(BlinkConnection(Page(#= circular reference @-4 =#))),\"callback\"=>##1#2()), Distributed.Future(1, 1, 5, Some(true))))"
      ]
     },
     "execution_count": 85,
     "metadata": {},
     "output_type": "execute_result"
    }
   ],
   "source": [
    "gui = GUI(mechanism, visuals)\n",
    "if !haskey(ENV, \"CI\") # don't try to open a GUI on a headless CI build\n",
    "    open(gui)\n",
    "end"
   ]
  },
  {
   "cell_type": "code",
   "execution_count": 86,
   "metadata": {
    "collapsed": true
   },
   "outputs": [],
   "source": [
    "vis = gui.visualizer # a MeshCatMechanisms.MechanismVisualizer\n",
    "set_configuration!(vis, configuration(state));"
   ]
  },
  {
   "cell_type": "code",
   "execution_count": 87,
   "metadata": {
    "collapsed": true
   },
   "outputs": [],
   "source": [
    "gui_callback = CallbackSet(gui);"
   ]
  },
  {
   "cell_type": "code",
   "execution_count": 88,
   "metadata": {},
   "outputs": [],
   "source": [
    "sol = solve(problem, Tsit5(), abs_tol = 1e-10, dt = 0.05, callback = gui_callback);"
   ]
  },
  {
   "cell_type": "code",
   "execution_count": 89,
   "metadata": {
    "collapsed": true
   },
   "outputs": [],
   "source": [
    "problem = ODEProblem(open_loop_dynamics, state, (0., 5.))\n",
    "rate_limiter = RealtimeRateLimiter(max_rate = 1.)\n",
    "callbacks = CallbackSet(gui_callback, rate_limiter) # this is how you combine callbacks\n",
    "solve(problem, Tsit5(), abs_tol = 1e-10, dt = 0.05, callback = callbacks);"
   ]
  },
  {
   "cell_type": "code",
   "execution_count": 90,
   "metadata": {
    "collapsed": true
   },
   "outputs": [],
   "source": [
    "problem = ODEProblem(open_loop_dynamics, state, (0., 5.))\n",
    "sol = solve(problem, Vern7(), abs_tol = 1e-10, dt = 0.05);\n",
    "setanimation!(vis, sol, realtime_rate=0.5);\n"
   ]
  },
  {
   "cell_type": "code",
   "execution_count": 26,
   "metadata": {},
   "outputs": [
    {
     "data": {
      "text/plain": [
       "\"C:\\\\Users\\\\hasti\\\\.julia\\\\packages\\\\RigidBodySim\\\\Beung\\\\src\\\\RigidBodySim.jl\""
      ]
     },
     "execution_count": 26,
     "metadata": {},
     "output_type": "execute_result"
    }
   ],
   "source": [
    "pathof(RigidBodySim)"
   ]
  },
  {
   "cell_type": "code",
   "execution_count": 61,
   "metadata": {},
   "outputs": [
    {
     "data": {
      "text/plain": [
       "2-element Array{Joint{Float64,JT} where JT<:JointType{Float64},1}:\n",
       " Joint \"shoulder\": Revolute joint with axis [0.0, 1.0, 0.0]\n",
       " Joint \"elbow\": Revolute joint with axis [0.0, 1.0, 0.0]   "
      ]
     },
     "execution_count": 61,
     "metadata": {},
     "output_type": "execute_result"
    }
   ],
   "source": [
    "joints(mechanism)"
   ]
  },
  {
   "cell_type": "code",
   "execution_count": 92,
   "metadata": {},
   "outputs": [
    {
     "name": "stdout",
     "output_type": "stream",
     "text": [
      "search: \u001b[0m\u001b[1mp\u001b[22m\u001b[0m\u001b[1ma\u001b[22m\u001b[0m\u001b[1mr\u001b[22m\u001b[0m\u001b[1ms\u001b[22m\u001b[0m\u001b[1me\u001b[22m\u001b[0m\u001b[1m_\u001b[22m\u001b[0m\u001b[1mu\u001b[22m\u001b[0m\u001b[1mr\u001b[22m\u001b[0m\u001b[1md\u001b[22m\u001b[0m\u001b[1mf\u001b[22m\n",
      "\n"
     ]
    },
    {
     "data": {
      "text/latex": [
       "\\begin{verbatim}\n",
       "parse_urdf(filename; scalar_type, floating, joint_types, root_joint_type, remove_fixed_tree_joints, gravity, revolute_joint_type, floating_joint_type)\n",
       "\n",
       "\\end{verbatim}\n",
       "Create a \\texttt{Mechanism} by parsing a \\href{https://wiki.ros.org/urdf/XML/model}{URDF} file.\n",
       "\n",
       "Keyword arguments:\n",
       "\n",
       "\\begin{itemize}\n",
       "\\item \\texttt{scalar\\_type}: the scalar type used to store the \\texttt{Mechanism}'s kinematic and inertial  properties. Default: \\texttt{Float64}.\n",
       "\n",
       "\n",
       "\\item \\texttt{floating}: whether to use a floating joint as the root joint. Default: false.\n",
       "\n",
       "\n",
       "\\item \\texttt{joint\\_types}: dictionary mapping URDF joint type names to \\texttt{JointType} subtypes.  Default: \\href{@ref}{\\texttt{default\\_urdf\\_joint\\_types()}}.\n",
       "\n",
       "\n",
       "\\item \\texttt{root\\_joint\\_type}: the \\texttt{JointType} instance used to connect the parsed \\texttt{Mechanism} to the world.  Default: an instance of the the joint type corresponding to the \\texttt{floating} URDF joint type tag  if \\texttt{floating}, otherwise in an instance of the joint type for the \\texttt{fixed} URDF joint type tag.\n",
       "\n",
       "\n",
       "\\item \\texttt{remove\\_fixed\\_tree\\_joints}: whether to remove any fixed joints present in the kinematic tree  using \\href{@ref}{\\texttt{remove\\_fixed\\_tree\\_joints!}}. Default: \\texttt{true}.\n",
       "\n",
       "\n",
       "\\item \\texttt{gravity}: gravitational acceleration as a 3-vector expressed in the \\texttt{Mechanism}'s root frame  Default: \\texttt{[0.0, 0.0, -9.81]}.\n",
       "\n",
       "\\end{itemize}\n"
      ],
      "text/markdown": [
       "```julia\n",
       "parse_urdf(filename; scalar_type, floating, joint_types, root_joint_type, remove_fixed_tree_joints, gravity, revolute_joint_type, floating_joint_type)\n",
       "\n",
       "```\n",
       "\n",
       "Create a `Mechanism` by parsing a [URDF](https://wiki.ros.org/urdf/XML/model) file.\n",
       "\n",
       "Keyword arguments:\n",
       "\n",
       "  * `scalar_type`: the scalar type used to store the `Mechanism`'s kinematic and inertial  properties. Default: `Float64`.\n",
       "  * `floating`: whether to use a floating joint as the root joint. Default: false.\n",
       "  * `joint_types`: dictionary mapping URDF joint type names to `JointType` subtypes.  Default: [`default_urdf_joint_types()`](@ref).\n",
       "  * `root_joint_type`: the `JointType` instance used to connect the parsed `Mechanism` to the world.  Default: an instance of the the joint type corresponding to the `floating` URDF joint type tag  if `floating`, otherwise in an instance of the joint type for the `fixed` URDF joint type tag.\n",
       "  * `remove_fixed_tree_joints`: whether to remove any fixed joints present in the kinematic tree  using [`remove_fixed_tree_joints!`](@ref). Default: `true`.\n",
       "  * `gravity`: gravitational acceleration as a 3-vector expressed in the `Mechanism`'s root frame  Default: `[0.0, 0.0, -9.81]`.\n"
      ],
      "text/plain": [
       "\u001b[36m  parse_urdf(filename; scalar_type, floating, joint_types, root_joint_type, remove_fixed_tree_joints, gravity, revolute_joint_type, floating_joint_type)\u001b[39m\n",
       "\u001b[36m  \u001b[39m\n",
       "\n",
       "  Create a \u001b[36mMechanism\u001b[39m by parsing a URDF (https://wiki.ros.org/urdf/XML/model)\n",
       "  file.\n",
       "\n",
       "  Keyword arguments:\n",
       "\n",
       "    •    \u001b[36mscalar_type\u001b[39m: the scalar type used to store the \u001b[36mMechanism\u001b[39m's\n",
       "        kinematic and inertial properties. Default: \u001b[36mFloat64\u001b[39m.\n",
       "\n",
       "    •    \u001b[36mfloating\u001b[39m: whether to use a floating joint as the root joint.\n",
       "        Default: false.\n",
       "\n",
       "    •    \u001b[36mjoint_types\u001b[39m: dictionary mapping URDF joint type names to \u001b[36mJointType\u001b[39m\n",
       "        subtypes. Default: \u001b[36mdefault_urdf_joint_types()\u001b[39m.\n",
       "\n",
       "    •    \u001b[36mroot_joint_type\u001b[39m: the \u001b[36mJointType\u001b[39m instance used to connect the parsed\n",
       "        \u001b[36mMechanism\u001b[39m to the world. Default: an instance of the the joint type\n",
       "        corresponding to the \u001b[36mfloating\u001b[39m URDF joint type tag if \u001b[36mfloating\u001b[39m,\n",
       "        otherwise in an instance of the joint type for the \u001b[36mfixed\u001b[39m URDF\n",
       "        joint type tag.\n",
       "\n",
       "    •    \u001b[36mremove_fixed_tree_joints\u001b[39m: whether to remove any fixed joints\n",
       "        present in the kinematic tree using \u001b[36mremove_fixed_tree_joints!\u001b[39m.\n",
       "        Default: \u001b[36mtrue\u001b[39m.\n",
       "\n",
       "    •    \u001b[36mgravity\u001b[39m: gravitational acceleration as a 3-vector expressed in the\n",
       "        \u001b[36mMechanism\u001b[39m's root frame Default: \u001b[36m[0.0, 0.0, -9.81]\u001b[39m."
      ]
     },
     "execution_count": 92,
     "metadata": {},
     "output_type": "execute_result"
    }
   ],
   "source": [
    "?parse_urdf"
   ]
  },
  {
   "cell_type": "code",
   "execution_count": null,
   "metadata": {
    "collapsed": true
   },
   "outputs": [],
   "source": []
  }
 ],
 "metadata": {
  "kernelspec": {
   "display_name": "Julia 1.1.1",
   "language": "julia",
   "name": "julia-1.1"
  },
  "language_info": {
   "file_extension": ".jl",
   "mimetype": "application/julia",
   "name": "julia",
   "version": "1.1.1"
  }
 },
 "nbformat": 4,
 "nbformat_minor": 2
}
