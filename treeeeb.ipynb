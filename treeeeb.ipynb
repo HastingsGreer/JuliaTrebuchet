{
 "cells": [
  {
   "cell_type": "code",
   "execution_count": 165,
   "metadata": {},
   "outputs": [
    {
     "data": {
      "text/plain": [
       "trebuchet_range (generic function with 4 methods)"
      ]
     },
     "execution_count": 165,
     "metadata": {},
     "output_type": "execute_result"
    }
   ],
   "source": [
    "using RigidBodySim\n",
    "using RigidBodyDynamics\n",
    "\n",
    "\n",
    "using RigidBodySim\n",
    "\n",
    "using MechanismGeometries\n",
    "\n",
    "# # @__NAME__\n",
    "\n",
    "# PREAMBLE\n",
    "\n",
    "# PKG_SETUP\n",
    "\n",
    "# ## Setup\n",
    "\n",
    "# In addition to `RigidBodyDynamics`, we'll be using the `StaticArrays` package, used throughout `RigidBodyDynamics`, which provides stack-allocated, fixed-size arrays:\n",
    "\n",
    "using RigidBodyDynamics\n",
    "using LinearAlgebra\n",
    "using StaticArrays\n",
    "\n",
    "function rod_origin_end(length, mass, name)\n",
    "    frame=CartesianFrame3D(name)\n",
    "    I_1 = 1 / 3. * mass * length^2   \n",
    "    c_1 = .5 * length\n",
    "    inertia1 = SpatialInertia(frame,\n",
    "        moment=moment=I_1 * SDiagonal(1, 1, 1. / 20^2),\n",
    "        com=SVector(0, 0, c_1),\n",
    "        mass=mass)\n",
    "    \n",
    "    return RigidBody(inertia1)\n",
    "end\n",
    "\n",
    "function arm(short_length, long_length, mass, name)\n",
    "    frame=CartesianFrame3D(name)\n",
    "       \n",
    "    c_1 = .5(short_length - long_length)\n",
    "    I_1 = 1 / 12. * mass * (short_length + long_length)^2 + c_1 ^2 * mass\n",
    "    \n",
    "    inertia1 = SpatialInertia(frame,\n",
    "        moment=moment=I_1 * SDiagonal(1, 1, 1. / 20^2),\n",
    "        com=SVector(0, 0, c_1),\n",
    "        mass=mass)\n",
    "    \n",
    "    return RigidBody(inertia1)\n",
    "end\n",
    "\n",
    "function offset_ball(distance, mass, name)\n",
    "    frame=CartesianFrame3D(name)\n",
    "    I_1 =   mass * distance^2   \n",
    "    I_ball = 2. /5 * mass * (distance / 20)^2\n",
    "    c_1 = distance\n",
    "    inertia1 = SpatialInertia(frame,\n",
    "        moment=moment=SDiagonal(I_1 + I_ball, I_1 + I_ball, I_ball),\n",
    "        com=SVector(0, 0, c_1),\n",
    "        mass=mass)\n",
    "    \n",
    "    return RigidBody(inertia1)\n",
    "end\n",
    "    \n",
    "\n",
    "function trebuchet_range(arm_length, cw_arm_length, sling_length_1, sling_length_2, flying_weight_mass, do_gui=true)\n",
    "    g = -.981 # gravitational acceleration in z-direction\n",
    "    world = RigidBody{Float64}(\"world\")\n",
    "    doublependulum = Mechanism(world; gravity = SVector(0, 0, g))\n",
    "\n",
    "    upperlink = arm(cw_arm_length, arm_length, 10 * arm_length / sqrt(2), \"upper_link\")\n",
    "\n",
    "\n",
    "    # and a new revolute joint called 'shoulder':\n",
    "    axis = SVector(1.0, 0, 0)\n",
    "    shoulder = Joint(\"shoulder\", Revolute(axis))\n",
    "\n",
    "\n",
    "    # Creating a `Joint` automatically constructs two new `CartesianFrame3D` objects: a frame directly before the joint, and one directly after. To attach the new body to the world by this joint, we'll have to specify where the frame before the joint is located on the parent body (here, the world):\n",
    "\n",
    "    before_shoulder_to_world = one(Transform3D,\n",
    "        frame_before(shoulder), default_frame(world))\n",
    "\n",
    "\n",
    "    # Now we can attach the upper link to the world:\n",
    "\n",
    "    attach!(doublependulum, world, upperlink, shoulder,\n",
    "        joint_pose = before_shoulder_to_world)\n",
    "\n",
    "\n",
    "\n",
    "    lowerlink = offset_ball(1 - cw_arm_length, 1000, \"lower_link\")\n",
    "    elbow = Joint(\"elbow\", Revolute(axis))\n",
    "    before_elbow_to_after_shoulder = Transform3D(\n",
    "        frame_before(elbow), frame_after(shoulder), SVector(0, 0, cw_arm_length))\n",
    "    attach!(doublependulum, upperlink, lowerlink, elbow,\n",
    "        joint_pose = before_elbow_to_after_shoulder)\n",
    "    \n",
    "    flying_weight = offset_ball(sling_length_1, flying_weight_mass, \"flying_weight\")\n",
    "    \n",
    "    arm_tip = Joint(\"arm_tip\", Revolute(axis))\n",
    "    before_tip_to_after_shoulder = Transform3D(\n",
    "        frame_before(arm_tip), frame_after(shoulder), SVector(0, 0, -arm_length))\n",
    "    attach!(doublependulum, upperlink, flying_weight, arm_tip,\n",
    "        joint_pose = before_tip_to_after_shoulder)\n",
    "    \n",
    "    \n",
    "    \n",
    "    projectile = offset_ball(sling_length_2, 1, \"projectile\")\n",
    "\n",
    "    pin = Joint(\"pin\", Revolute(axis))\n",
    "    before_pin_to_after_fweight = Transform3D(\n",
    "        frame_before(pin), frame_after(arm_tip), SVector(0, 0, sling_length_2))\n",
    "    attach!(doublependulum, flying_weight, projectile, pin,\n",
    "        joint_pose = before_pin_to_after_fweight)\n",
    "\n",
    "    #add_contact_point!(projectile, center_of_mass(spatial_inertia(projectile)))\n",
    "\n",
    "    state = MechanismState(doublependulum)\n",
    "\n",
    "\n",
    "    # Let's first set the configurations and velocities of the joints:\n",
    "\n",
    "    set_configuration!(state, shoulder, acos(1 / arm_length))\n",
    "    set_configuration!(state, elbow, pi - acos(1 / arm_length))\n",
    "\n",
    "    set_configuration!(state, arm_tip,  pi / 2 - acos(1 / arm_length))\n",
    "    \n",
    "    set_configuration!(state, pin,  0)\n",
    "\n",
    "    set_velocity!(state, shoulder, 0)\n",
    "    set_velocity!(state, elbow, 0)\n",
    "\n",
    "\n",
    "    setdirty!(state)\n",
    "\n",
    "\n",
    "\n",
    "    open_loop_dynamics = Dynamics(doublependulum);\n",
    "    \n",
    "    problem = ODEProblem(open_loop_dynamics, state, (0., 4))\n",
    "    \n",
    "    if(do_gui)\n",
    "        gui = GUI(doublependulum, Skeleton())\n",
    "        if !haskey(ENV, \"CI\") # don't try to open a GUI on a headless CI build\n",
    "            open(gui)\n",
    "        end\n",
    "        vis = gui.visualizer # a MeshCatMechanisms.MechanismVisualizer\n",
    "        set_configuration!(vis, configuration(state));\n",
    "        gui_callback = CallbackSet(gui);\n",
    "        rate_limiter = RealtimeRateLimiter(max_rate = 1)\n",
    "        callbacks = CallbackSet(gui_callback, rate_limiter) # this is how you combine callbacks\n",
    "        res = solve(problem, Tsit5(), abs_tol = 1e-10, dt = 0.005, callback = callbacks);\n",
    "\n",
    "    else\n",
    "        res = solve(problem, Tsit5(), abs_tol = 1e-10, dt = 0.005);\n",
    "    end\n",
    "    \n",
    "    #print(length(res), \" \")\n",
    "    \n",
    "    range = 0\n",
    "    rs = []\n",
    "    for t in 0:.05:4\n",
    "        u = res(t)\n",
    "        set_configuration!(state, u[1:4])\n",
    "        set_velocity!(state, u[5:8])\n",
    "        r = transform_to_root(state, projectile) * center_of_mass(spatial_inertia(projectile))\n",
    "        push!(rs, [r.v[2], r.v[3]])\n",
    "        v = point_velocity(\n",
    "            twist_wrt_world(state, projectile), \n",
    "            r\n",
    "        )\n",
    "        \n",
    "        #println(v)\n",
    "        if(u[3] > 2 * pi || u[3] < -2 * pi)\n",
    "            break\n",
    "        end\n",
    "        if(u[4] > 2 * pi || u[4] < -2 * pi)\n",
    "            break\n",
    "        end\n",
    "        range = max(-v.v[2] * v.v[3] * 2 / g, range)\n",
    "        \n",
    "    end\n",
    "    return range\n",
    "end"
   ]
  },
  {
   "cell_type": "code",
   "execution_count": 166,
   "metadata": {},
   "outputs": [
    {
     "data": {
      "text/plain": [
       "453.6324558844167"
      ]
     },
     "execution_count": 166,
     "metadata": {},
     "output_type": "execute_result"
    }
   ],
   "source": [
    "res = trebuchet_range(sqrt(2), .35, sqrt(2), sqrt(2), 10, true)"
   ]
  },
  {
   "cell_type": "code",
   "execution_count": 167,
   "metadata": {},
   "outputs": [],
   "source": [
    "using BlackBoxOptim"
   ]
  },
  {
   "cell_type": "code",
   "execution_count": 168,
   "metadata": {},
   "outputs": [
    {
     "name": "stdout",
     "output_type": "stream",
     "text": [
      "Starting optimization with optimizer XNESOpt{Float64,RandomBound{ContinuousRectSearchSpace}}\n",
      "0.00 secs, 0 evals, 0 steps\n",
      "sigma=1.0 |trace(ln_B)|=-8.881784197001252e-16\n",
      "0.50 secs, 406 evals, 58 steps, fitness=-1184.655902393\n",
      "sigma=0.5896702158753384 |trace(ln_B)|=8.881784197001252e-16\n",
      "1.00 secs, 847 evals, 121 steps, fitness=-1647.045819147\n",
      "sigma=0.3161675259323692 |trace(ln_B)|=1.3322676295501878e-15\n",
      "1.51 secs, 1281 evals, 183 steps, fitness=-1647.045819147\n",
      "sigma=0.15360976448979669 |trace(ln_B)|=1.5543122344752192e-15\n",
      "2.29 secs, 1519 evals, 217 steps, fitness=-1647.045819147\n",
      "sigma=0.12217233560590168 |trace(ln_B)|=1.7763568394002505e-15\n",
      "2.80 secs, 1939 evals, 277 steps, fitness=-1647.712158490\n",
      "sigma=0.0677139964331734 |trace(ln_B)|=3.1086244689504383e-15\n",
      "3.31 secs, 2338 evals, 334 steps, fitness=-1691.555821346\n",
      "sigma=0.042149199461039066 |trace(ln_B)|=3.774758283725532e-15\n",
      "3.81 secs, 2730 evals, 390 steps, fitness=-1693.750587067\n",
      "sigma=0.021972945524512795 |trace(ln_B)|=7.549516567451064e-15\n",
      "4.31 secs, 3122 evals, 446 steps, fitness=-1705.274145066\n",
      "sigma=0.010168269206634292 |trace(ln_B)|=6.8833827526759706e-15\n",
      "4.82 secs, 3521 evals, 503 steps, fitness=-1718.532815773\n",
      "sigma=0.0054483496580980785 |trace(ln_B)|=8.43769498715119e-15\n",
      "5.32 secs, 3913 evals, 559 steps, fitness=-1718.532815773\n",
      "sigma=0.003544596922418449 |trace(ln_B)|=8.770761894538737e-15\n",
      "5.83 secs, 4305 evals, 615 steps, fitness=-1718.532815773\n",
      "sigma=0.0021867153669055095 |trace(ln_B)|=8.43769498715119e-15\n",
      "6.34 secs, 4704 evals, 672 steps, fitness=-1718.532815773\n",
      "sigma=0.0014524493251474907 |trace(ln_B)|=7.105427357601002e-15\n",
      "6.84 secs, 5089 evals, 727 steps, fitness=-1718.532815773\n",
      "sigma=0.0010888392931690438 |trace(ln_B)|=6.8833827526759706e-15\n",
      "7.34 secs, 5481 evals, 783 steps, fitness=-1718.532815773\n",
      "sigma=0.0007874359914962143 |trace(ln_B)|=6.439293542825908e-15\n",
      "7.93 secs, 5537 evals, 791 steps, fitness=-1718.532815773\n",
      "sigma=0.0007311993697626645 |trace(ln_B)|=7.549516567451064e-15\n",
      "8.44 secs, 5957 evals, 851 steps, fitness=-1719.492579886\n",
      "sigma=0.0004699223413472949 |trace(ln_B)|=6.661338147750939e-15\n",
      "8.95 secs, 6370 evals, 910 steps, fitness=-1720.201364072\n",
      "sigma=0.0002573292082517485 |trace(ln_B)|=6.217248937900877e-15\n",
      "9.46 secs, 6776 evals, 968 steps, fitness=-1720.640959914\n",
      "sigma=0.00015398445927716767 |trace(ln_B)|=6.661338147750939e-15\n",
      "9.96 secs, 7175 evals, 1025 steps, fitness=-1720.640959914\n",
      "sigma=0.00010047473023629057 |trace(ln_B)|=5.995204332975845e-15\n",
      "10.46 secs, 7574 evals, 1082 steps, fitness=-1720.640959914\n",
      "sigma=6.367796641099842e-5 |trace(ln_B)|=4.6629367034256575e-15\n",
      "10.96 secs, 7973 evals, 1139 steps, fitness=-1720.640959914\n",
      "sigma=4.6169339192310766e-5 |trace(ln_B)|=4.218847493575595e-15\n",
      "11.47 secs, 8379 evals, 1197 steps, fitness=-1720.640959914\n",
      "sigma=2.8445977559253943e-5 |trace(ln_B)|=2.886579864025407e-15\n",
      "11.98 secs, 8785 evals, 1255 steps, fitness=-1720.640959914\n",
      "sigma=2.0394381679391795e-5 |trace(ln_B)|=3.552713678800501e-15\n",
      "12.48 secs, 9191 evals, 1313 steps, fitness=-1720.640959914\n",
      "sigma=1.2156454563044913e-5 |trace(ln_B)|=3.7192471324942744e-15\n",
      "13.46 secs, 9562 evals, 1366 steps, fitness=-1720.640959914\n",
      "sigma=7.957070422053146e-6 |trace(ln_B)|=3.1086244689504383e-15\n",
      "13.97 secs, 9989 evals, 1427 steps, fitness=-1720.640959914\n",
      "sigma=4.367701934604008e-6 |trace(ln_B)|=2.886579864025407e-15\n",
      "14.47 secs, 10402 evals, 1486 steps, fitness=-1720.640959914\n",
      "sigma=2.3416386561848363e-6 |trace(ln_B)|=3.1086244689504383e-15\n",
      "14.97 secs, 10801 evals, 1543 steps, fitness=-1720.640959914\n",
      "sigma=1.535875447014932e-6 |trace(ln_B)|=1.7763568394002505e-15\n",
      "15.48 secs, 11200 evals, 1600 steps, fitness=-1720.640959914\n",
      "sigma=1.1198978228199988e-6 |trace(ln_B)|=2.7755575615628914e-15\n",
      "15.99 secs, 11606 evals, 1658 steps, fitness=-1720.640959914\n",
      "sigma=8.37685072507503e-7 |trace(ln_B)|=5.051514762044462e-15\n",
      "16.49 secs, 12012 evals, 1716 steps, fitness=-1720.640959914\n",
      "sigma=5.956151091116077e-7 |trace(ln_B)|=5.551115123125783e-15\n",
      "16.99 secs, 12411 evals, 1773 steps, fitness=-1720.640959914\n",
      "sigma=4.322285292442276e-7 |trace(ln_B)|=5.329070518200751e-15\n",
      "17.50 secs, 12817 evals, 1831 steps, fitness=-1720.640959914\n",
      "sigma=3.5060868423710234e-7 |trace(ln_B)|=4.6629367034256575e-15\n",
      "18.00 secs, 13223 evals, 1889 steps, fitness=-1720.640959914\n",
      "sigma=2.469381622391397e-7 |trace(ln_B)|=4.6074255521944e-15\n",
      "18.99 secs, 13587 evals, 1941 steps, fitness=-1720.640959914\n",
      "sigma=2.0347031856462218e-7 |trace(ln_B)|=4.073130721593543e-15\n",
      "19.50 secs, 14014 evals, 2002 steps, fitness=-1720.640959914\n",
      "sigma=1.8705041132516666e-7 |trace(ln_B)|=3.802513859341161e-15\n",
      "\n",
      "Optimization stopped after 2061 steps and 20.00 seconds\n",
      "Termination reason: Max time (20.0 s) reached\n",
      "Steps per second = 103.03\n",
      "Function evals per second = 721.21\n",
      "Improvements/step = NaN\n",
      "Total function evaluations = 14427\n",
      "\n",
      "\n",
      "Best candidate found: [1.36866, 0.8193, 1.59531, 4.91784, 62.8565]\n",
      "\n",
      "Fitness: -1720.640959914\n",
      "\n"
     ]
    },
    {
     "data": {
      "text/plain": [
       "1691.231942440192"
      ]
     },
     "execution_count": 168,
     "metadata": {},
     "output_type": "execute_result"
    }
   ],
   "source": [
    "best = bboptimize(;SearchRange = [(1., 5.), (0.05, .95), (0.1, 5.), (0.1, 5.), (1., 100.)], MaxTime=20,\n",
    "    Method=:xnes) do x\n",
    "    -trebuchet_range(x[1], x[2], x[3], x[4], x[5], false)\n",
    "end\n",
    "\n",
    "t = best_candidate(best)\n",
    "trebuchet_range(t[1], t[2], t[3], t[4], t[5], true)"
   ]
  },
  {
   "cell_type": "code",
   "execution_count": 162,
   "metadata": {},
   "outputs": [
    {
     "data": {
      "text/plain": [
       "1815.7767514737147"
      ]
     },
     "execution_count": 162,
     "metadata": {},
     "output_type": "execute_result"
    }
   ],
   "source": [
    "trebuchet_range(t[1], t[2], t[3], t[4], t[5], true)"
   ]
  },
  {
   "cell_type": "code",
   "execution_count": 121,
   "metadata": {},
   "outputs": [
    {
     "data": {
      "image/png": "[encoded data removed]",
      "text/plain": [
       "Figure(PyObject <Figure size 640x480 with 1 Axes>)"
      ]
     },
     "metadata": {},
     "output_type": "display_data"
    },
    {
     "data": {
      "text/plain": [
       "1-element Array{PyCall.PyObject,1}:\n",
       " PyObject <matplotlib.lines.Line2D object at 0x000000006EAF0EB8>"
      ]
     },
     "execution_count": 121,
     "metadata": {},
     "output_type": "execute_result"
    }
   ],
   "source": [
    "r = hcat(rs...)\n",
    "using PyPlot\n",
    "plot(r[1, :], r[2, :])\n"
   ]
  },
  {
   "cell_type": "code",
   "execution_count": 43,
   "metadata": {},
   "outputs": [
    {
     "data": {
      "text/plain": [
       "6-element Array{Float64,1}:\n",
       "  3.5718601570305855\n",
       "  0.1311088612336846\n",
       " 10.443131571413554 \n",
       " -1.8555771385859818\n",
       "  3.432031833222224 \n",
       "  6.744510638326981 "
      ]
     },
     "execution_count": 43,
     "metadata": {},
     "output_type": "execute_result"
    }
   ],
   "source": [
    "res(3.6)"
   ]
  },
  {
   "cell_type": "code",
   "execution_count": 66,
   "metadata": {
    "collapsed": true
   },
   "outputs": [],
   "source": [
    "import AtlasRobot\n",
    "\n",
    "mechanism = AtlasRobot.mechanism(add_flat_ground=true)\n",
    "\n",
    "state = MechanismState(mechanism)\n",
    "\n",
    "\n",
    "# Let's first set the configurations and velocities of the joints:\n",
    "AtlasRobot.setnominal!(state)\n",
    "setdirty!(state)\n",
    "\n",
    "\n",
    "\n",
    "using RigidBodySim\n",
    "\n",
    "using MechanismGeometries\n",
    "open_loop_dynamics = Dynamics(mechanism);\n",
    "\n",
    "gui = GUI(mechanism, Skeleton())\n",
    "if !haskey(ENV, \"CI\") # don't try to open a GUI on a headless CI build\n",
    "    open(gui)\n",
    "end\n",
    "vis = gui.visualizer # a MeshCatMechanisms.MechanismVisualizer\n",
    "set_configuration!(vis, configuration(state));\n",
    "gui_callback = CallbackSet(gui);\n",
    "problem = ODEProblem(open_loop_dynamics, state, (0., 5.))\n",
    "rate_limiter = RealtimeRateLimiter(max_rate = 1.)\n",
    "callbacks = CallbackSet(gui_callback, rate_limiter) # this is how you combine callbacks\n",
    "solve(problem, Tsit5(), abs_tol = 1e-10, dt = 0.05, callback = callbacks);"
   ]
  },
  {
   "cell_type": "code",
   "execution_count": 1,
   "metadata": {},
   "outputs": [
    {
     "data": {
      "text/plain": [
       "3"
      ]
     },
     "execution_count": 1,
     "metadata": {},
     "output_type": "execute_result"
    }
   ],
   "source": [
    "3"
   ]
  },
  {
   "cell_type": "code",
   "execution_count": 58,
   "metadata": {},
   "outputs": [
    {
     "name": "stdout",
     "output_type": "stream",
     "text": [
      "\u001b[32m\u001b[1m Resolving\u001b[22m\u001b[39m package versions...\n",
      "\u001b[32m\u001b[1m Installed\u001b[22m\u001b[39m AtlasRobot ─ v0.4.0\n",
      "\u001b[32m\u001b[1m  Updating\u001b[22m\u001b[39m `C:\\Users\\hasti\\.julia\\environments\\v1.1\\Project.toml`\n",
      " \u001b[90m [436ed74b]\u001b[39m\u001b[92m + AtlasRobot v0.4.0\u001b[39m\n",
      "\u001b[32m\u001b[1m  Updating\u001b[22m\u001b[39m `C:\\Users\\hasti\\.julia\\environments\\v1.1\\Manifest.toml`\n",
      " \u001b[90m [436ed74b]\u001b[39m\u001b[92m + AtlasRobot v0.4.0\u001b[39m\n",
      "\u001b[32m\u001b[1m  Building\u001b[22m\u001b[39m AtlasRobot → `C:\\Users\\hasti\\.julia\\packages\\AtlasRobot\\iQG8w\\deps\\build.log`\n"
     ]
    }
   ],
   "source": [
    "Pkg.add(\"AtlasRobot\")"
   ]
  },
  {
   "cell_type": "code",
   "execution_count": null,
   "metadata": {
    "collapsed": true
   },
   "outputs": [],
   "source": []
  }
 ],
 "metadata": {
  "kernelspec": {
   "display_name": "Julia 1.1.1",
   "language": "julia",
   "name": "julia-1.1"
  },
  "language_info": {
   "file_extension": ".jl",
   "mimetype": "application/julia",
   "name": "julia",
   "version": "1.1.1"
  }
 },
 "nbformat": 4,
 "nbformat_minor": 2
}
